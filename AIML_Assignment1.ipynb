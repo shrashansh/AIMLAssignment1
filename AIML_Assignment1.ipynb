{
  "nbformat": 4,
  "nbformat_minor": 0,
  "metadata": {
    "colab": {
      "provenance": [],
      "gpuType": "T4"
    },
    "kernelspec": {
      "name": "python3",
      "display_name": "Python 3"
    },
    "language_info": {
      "name": "python"
    },
    "accelerator": "GPU"
  },
  "cells": [
    {
      "cell_type": "markdown",
      "source": [
        "### **Mount Google Drive to Collab Notebook**"
      ],
      "metadata": {
        "id": "9vedNLbpo82u"
      }
    },
    {
      "cell_type": "code",
      "source": [
        "from google.colab import drive\n",
        "drive.mount('/content/drive')"
      ],
      "metadata": {
        "colab": {
          "base_uri": "https://localhost:8080/"
        },
        "id": "csFDcPNRs_nD",
        "outputId": "df340af7-553e-47a7-9b24-0a1347009616"
      },
      "execution_count": 1,
      "outputs": [
        {
          "output_type": "stream",
          "name": "stdout",
          "text": [
            "Mounted at /content/drive\n"
          ]
        }
      ]
    },
    {
      "cell_type": "markdown",
      "source": [
        "### **## Check Google Drive**"
      ],
      "metadata": {
        "id": "-8O6UN3mpF_e"
      }
    },
    {
      "cell_type": "code",
      "source": [
        "!ls /content/drive/MyDrive/"
      ],
      "metadata": {
        "colab": {
          "base_uri": "https://localhost:8080/"
        },
        "id": "b4YcXyaztpbV",
        "outputId": "a7128589-f484-45ef-a2ba-c8123cfd24ad"
      },
      "execution_count": 2,
      "outputs": [
        {
          "output_type": "stream",
          "name": "stdout",
          "text": [
            "'Colab Notebooks'   pretrained\t\t\t ShrashanshDixit_Zentrades_Assignment.pdf\n",
            " input\t\t    ShrashanshDixit-Resume.pdf\t ZenTrades_Assignment_ShrashanshDixit.mp4\n"
          ]
        }
      ]
    },
    {
      "cell_type": "markdown",
      "source": [
        "### **Clone GitHub repository and model of Wav2Lip**"
      ],
      "metadata": {
        "id": "ryURP5AepKLm"
      }
    },
    {
      "cell_type": "code",
      "source": [
        "!git clone https://github.com/Rudrabha/Wav2Lip.git"
      ],
      "metadata": {
        "colab": {
          "base_uri": "https://localhost:8080/"
        },
        "id": "pOT04HKvuOiu",
        "outputId": "4abfec61-76f4-4a7e-b1be-89d540e19fcf"
      },
      "execution_count": 3,
      "outputs": [
        {
          "output_type": "stream",
          "name": "stdout",
          "text": [
            "Cloning into 'Wav2Lip'...\n",
            "remote: Enumerating objects: 372, done.\u001b[K\n",
            "remote: Counting objects: 100% (12/12), done.\u001b[K\n",
            "remote: Compressing objects: 100% (11/11), done.\u001b[K\n",
            "remote: Total 372 (delta 6), reused 3 (delta 1), pack-reused 360\u001b[K\n",
            "Receiving objects: 100% (372/372), 529.41 KiB | 2.13 MiB/s, done.\n",
            "Resolving deltas: 100% (204/204), done.\n"
          ]
        }
      ]
    },
    {
      "cell_type": "markdown",
      "source": [
        "### **Copy pretrained models which you've uploaded on Google Drive**"
      ],
      "metadata": {
        "id": "I8kTCrwMpU6A"
      }
    },
    {
      "cell_type": "code",
      "source": [
        "!cp -ri \"/content/drive/MyDrive/pretrained/wav2lip_gan.pth\" /content/Wav2Lip/checkpoints/"
      ],
      "metadata": {
        "id": "hZSCvPuWvEM8"
      },
      "execution_count": 4,
      "outputs": []
    },
    {
      "cell_type": "markdown",
      "source": [
        "### **Install Dependencies**"
      ],
      "metadata": {
        "id": "sQwqPs-WpeLG"
      }
    },
    {
      "cell_type": "code",
      "source": [
        "!cd Wav2Lip && pip install -r requirements.txt"
      ],
      "metadata": {
        "colab": {
          "base_uri": "https://localhost:8080/"
        },
        "id": "0Hp5WvlayCVl",
        "outputId": "8d34a637-d254-412c-adad-f106082f7d03"
      },
      "execution_count": 5,
      "outputs": [
        {
          "output_type": "stream",
          "name": "stdout",
          "text": [
            "Collecting librosa==0.7.0 (from -r requirements.txt (line 1))\n",
            "  Downloading librosa-0.7.0.tar.gz (1.6 MB)\n",
            "\u001b[2K     \u001b[90m━━━━━━━━━━━━━━━━━━━━━━━━━━━━━━━━━━━━━━━━\u001b[0m \u001b[32m1.6/1.6 MB\u001b[0m \u001b[31m9.9 MB/s\u001b[0m eta \u001b[36m0:00:00\u001b[0m\n",
            "\u001b[?25h  Preparing metadata (setup.py) ... \u001b[?25l\u001b[?25hdone\n",
            "Collecting numpy==1.17.1 (from -r requirements.txt (line 2))\n",
            "  Downloading numpy-1.17.1.zip (6.5 MB)\n",
            "\u001b[2K     \u001b[90m━━━━━━━━━━━━━━━━━━━━━━━━━━━━━━━━━━━━━━━━\u001b[0m \u001b[32m6.5/6.5 MB\u001b[0m \u001b[31m10.4 MB/s\u001b[0m eta \u001b[36m0:00:00\u001b[0m\n",
            "\u001b[?25h  Preparing metadata (setup.py) ... \u001b[?25l\u001b[?25hdone\n",
            "Requirement already satisfied: opencv-contrib-python>=4.2.0.34 in /usr/local/lib/python3.10/dist-packages (from -r requirements.txt (line 3)) (4.8.0.76)\n",
            "\u001b[31mERROR: Could not find a version that satisfies the requirement opencv-python==4.1.0.25 (from versions: 3.4.0.14, 3.4.10.37, 3.4.11.39, 3.4.11.41, 3.4.11.43, 3.4.11.45, 3.4.13.47, 3.4.15.55, 3.4.16.57, 3.4.16.59, 3.4.17.61, 3.4.17.63, 3.4.18.65, 4.3.0.38, 4.4.0.40, 4.4.0.42, 4.4.0.44, 4.4.0.46, 4.5.1.48, 4.5.3.56, 4.5.4.58, 4.5.4.60, 4.5.5.62, 4.5.5.64, 4.6.0.66, 4.7.0.68, 4.7.0.72, 4.8.0.74, 4.8.0.76, 4.8.1.78, 4.9.0.80)\u001b[0m\u001b[31m\n",
            "\u001b[0m\u001b[31mERROR: No matching distribution found for opencv-python==4.1.0.25\u001b[0m\u001b[31m\n",
            "\u001b[0m"
          ]
        }
      ]
    },
    {
      "cell_type": "markdown",
      "source": [
        "### **Fix OpenCV Issue**"
      ],
      "metadata": {
        "id": "-Sz1mSOOpi2F"
      }
    },
    {
      "cell_type": "code",
      "source": [
        "!pip install librosa==0.8.0"
      ],
      "metadata": {
        "colab": {
          "base_uri": "https://localhost:8080/"
        },
        "id": "OgRHM91yyGIi",
        "outputId": "1d3ca1f5-70a9-4fd2-e899-be2de9073c78"
      },
      "execution_count": 6,
      "outputs": [
        {
          "output_type": "stream",
          "name": "stdout",
          "text": [
            "Collecting librosa==0.8.0\n",
            "  Downloading librosa-0.8.0.tar.gz (183 kB)\n",
            "\u001b[2K     \u001b[90m━━━━━━━━━━━━━━━━━━━━━━━━━━━━━━━━━━━━━━━━\u001b[0m \u001b[32m183.9/183.9 kB\u001b[0m \u001b[31m5.0 MB/s\u001b[0m eta \u001b[36m0:00:00\u001b[0m\n",
            "\u001b[?25h  Preparing metadata (setup.py) ... \u001b[?25l\u001b[?25hdone\n",
            "Requirement already satisfied: audioread>=2.0.0 in /usr/local/lib/python3.10/dist-packages (from librosa==0.8.0) (3.0.1)\n",
            "Requirement already satisfied: numpy>=1.15.0 in /usr/local/lib/python3.10/dist-packages (from librosa==0.8.0) (1.23.5)\n",
            "Requirement already satisfied: scipy>=1.0.0 in /usr/local/lib/python3.10/dist-packages (from librosa==0.8.0) (1.11.4)\n",
            "Requirement already satisfied: scikit-learn!=0.19.0,>=0.14.0 in /usr/local/lib/python3.10/dist-packages (from librosa==0.8.0) (1.2.2)\n",
            "Requirement already satisfied: joblib>=0.14 in /usr/local/lib/python3.10/dist-packages (from librosa==0.8.0) (1.3.2)\n",
            "Requirement already satisfied: decorator>=3.0.0 in /usr/local/lib/python3.10/dist-packages (from librosa==0.8.0) (4.4.2)\n",
            "Collecting resampy>=0.2.2 (from librosa==0.8.0)\n",
            "  Downloading resampy-0.4.2-py3-none-any.whl (3.1 MB)\n",
            "\u001b[2K     \u001b[90m━━━━━━━━━━━━━━━━━━━━━━━━━━━━━━━━━━━━━━━━\u001b[0m \u001b[32m3.1/3.1 MB\u001b[0m \u001b[31m24.2 MB/s\u001b[0m eta \u001b[36m0:00:00\u001b[0m\n",
            "\u001b[?25hRequirement already satisfied: numba>=0.43.0 in /usr/local/lib/python3.10/dist-packages (from librosa==0.8.0) (0.58.1)\n",
            "Requirement already satisfied: soundfile>=0.9.0 in /usr/local/lib/python3.10/dist-packages (from librosa==0.8.0) (0.12.1)\n",
            "Requirement already satisfied: pooch>=1.0 in /usr/local/lib/python3.10/dist-packages (from librosa==0.8.0) (1.8.0)\n",
            "Requirement already satisfied: llvmlite<0.42,>=0.41.0dev0 in /usr/local/lib/python3.10/dist-packages (from numba>=0.43.0->librosa==0.8.0) (0.41.1)\n",
            "Requirement already satisfied: platformdirs>=2.5.0 in /usr/local/lib/python3.10/dist-packages (from pooch>=1.0->librosa==0.8.0) (4.1.0)\n",
            "Requirement already satisfied: packaging>=20.0 in /usr/local/lib/python3.10/dist-packages (from pooch>=1.0->librosa==0.8.0) (23.2)\n",
            "Requirement already satisfied: requests>=2.19.0 in /usr/local/lib/python3.10/dist-packages (from pooch>=1.0->librosa==0.8.0) (2.31.0)\n",
            "Requirement already satisfied: threadpoolctl>=2.0.0 in /usr/local/lib/python3.10/dist-packages (from scikit-learn!=0.19.0,>=0.14.0->librosa==0.8.0) (3.2.0)\n",
            "Requirement already satisfied: cffi>=1.0 in /usr/local/lib/python3.10/dist-packages (from soundfile>=0.9.0->librosa==0.8.0) (1.16.0)\n",
            "Requirement already satisfied: pycparser in /usr/local/lib/python3.10/dist-packages (from cffi>=1.0->soundfile>=0.9.0->librosa==0.8.0) (2.21)\n",
            "Requirement already satisfied: charset-normalizer<4,>=2 in /usr/local/lib/python3.10/dist-packages (from requests>=2.19.0->pooch>=1.0->librosa==0.8.0) (3.3.2)\n",
            "Requirement already satisfied: idna<4,>=2.5 in /usr/local/lib/python3.10/dist-packages (from requests>=2.19.0->pooch>=1.0->librosa==0.8.0) (3.6)\n",
            "Requirement already satisfied: urllib3<3,>=1.21.1 in /usr/local/lib/python3.10/dist-packages (from requests>=2.19.0->pooch>=1.0->librosa==0.8.0) (2.0.7)\n",
            "Requirement already satisfied: certifi>=2017.4.17 in /usr/local/lib/python3.10/dist-packages (from requests>=2.19.0->pooch>=1.0->librosa==0.8.0) (2023.11.17)\n",
            "Building wheels for collected packages: librosa\n",
            "  Building wheel for librosa (setup.py) ... \u001b[?25l\u001b[?25hdone\n",
            "  Created wheel for librosa: filename=librosa-0.8.0-py3-none-any.whl size=201368 sha256=70243d6e61a3d381a22cd55486ccb9be7deb9deffecafb6a6c0eb4f9e0401bef\n",
            "  Stored in directory: /root/.cache/pip/wheels/bf/b7/85/2f8044306ccec014930aea23ad4852fca9e2584e21c6972bc6\n",
            "Successfully built librosa\n",
            "Installing collected packages: resampy, librosa\n",
            "  Attempting uninstall: librosa\n",
            "    Found existing installation: librosa 0.10.1\n",
            "    Uninstalling librosa-0.10.1:\n",
            "      Successfully uninstalled librosa-0.10.1\n",
            "Successfully installed librosa-0.8.0 resampy-0.4.2\n"
          ]
        }
      ]
    },
    {
      "cell_type": "markdown",
      "source": [
        "### ***Download Face Detection ***"
      ],
      "metadata": {
        "id": "VaKoWXtipmqM"
      }
    },
    {
      "cell_type": "code",
      "source": [
        "!wget \"https://www.adrianbulat.com/downloads/python-fan/s3fd-619a316812.pth\" -O \"Wav2Lip/face_detection/detection/sfd/s3fd.pth\""
      ],
      "metadata": {
        "colab": {
          "base_uri": "https://localhost:8080/"
        },
        "id": "ynNj5mKMyOiU",
        "outputId": "a98a330f-dc64-4038-b052-f2097baa8730"
      },
      "execution_count": 7,
      "outputs": [
        {
          "output_type": "stream",
          "name": "stdout",
          "text": [
            "--2024-01-01 06:06:53--  https://www.adrianbulat.com/downloads/python-fan/s3fd-619a316812.pth\n",
            "Resolving www.adrianbulat.com (www.adrianbulat.com)... 45.136.29.207\n",
            "Connecting to www.adrianbulat.com (www.adrianbulat.com)|45.136.29.207|:443... connected.\n",
            "HTTP request sent, awaiting response... 200 OK\n",
            "Length: 89843225 (86M) [application/octet-stream]\n",
            "Saving to: ‘Wav2Lip/face_detection/detection/sfd/s3fd.pth’\n",
            "\n",
            "Wav2Lip/face_detect 100%[===================>]  85.68M  19.7MB/s    in 5.3s    \n",
            "\n",
            "2024-01-01 06:06:59 (16.2 MB/s) - ‘Wav2Lip/face_detection/detection/sfd/s3fd.pth’ saved [89843225/89843225]\n",
            "\n"
          ]
        }
      ]
    },
    {
      "cell_type": "markdown",
      "source": [
        "### **Copy Input files to sample_data**\n"
      ],
      "metadata": {
        "id": "WRzWHTxyprua"
      }
    },
    {
      "cell_type": "code",
      "source": [
        "!cp \"/content/drive/MyDrive/input/video.mp4\" \"/content/drive/MyDrive/input/audio.wav\" sample_data/\n",
        "!ls sample_data/"
      ],
      "metadata": {
        "colab": {
          "base_uri": "https://localhost:8080/"
        },
        "id": "ndq_7NsgyZcb",
        "outputId": "e5594714-33ba-4b8c-914b-dffa97af2b09"
      },
      "execution_count": 8,
      "outputs": [
        {
          "output_type": "stream",
          "name": "stdout",
          "text": [
            "anscombe.json  california_housing_test.csv   mnist_test.csv\t    README.md\n",
            "audio.wav      california_housing_train.csv  mnist_train_small.csv  video.mp4\n"
          ]
        }
      ]
    },
    {
      "cell_type": "markdown",
      "source": [
        "### **Run Wav2Lip inference**"
      ],
      "metadata": {
        "id": "AVT1JwH8pyxt"
      }
    },
    {
      "cell_type": "code",
      "source": [
        "!cd Wav2Lip && python inference.py --checkpoint_path checkpoints/wav2lip_gan.pth --face \"/content/drive/MyDrive/input/video.mp4\" --audio \"/content/sample_data/audio.wav\""
      ],
      "metadata": {
        "colab": {
          "base_uri": "https://localhost:8080/"
        },
        "id": "HG0RKTcVyk0R",
        "outputId": "d5f99deb-6bb8-4d05-efcf-261d8eb8e447"
      },
      "execution_count": 9,
      "outputs": [
        {
          "output_type": "stream",
          "name": "stdout",
          "text": [
            "Using cuda for inference.\n",
            "Reading video frames...\n",
            "^C\n"
          ]
        }
      ]
    },
    {
      "cell_type": "code",
      "source": [
        "!cd Wav2Lip && python inference.py --checkpoint_path checkpoints/wav2lip_gan.pth --face \"../sample_data/video.mp4\" --audio \"../sample_data/audio.wav\" --resize_factor 3 --pad 2 5 0 0"
      ],
      "metadata": {
        "colab": {
          "base_uri": "https://localhost:8080/"
        },
        "id": "Btq3Yrlqy7mC",
        "outputId": "54e1a4ec-e10c-4865-f505-365632023fc2"
      },
      "execution_count": 10,
      "outputs": [
        {
          "output_type": "stream",
          "name": "stdout",
          "text": [
            "Using cuda for inference.\n",
            "Reading video frames...\n",
            "Number of frames available for inference: 10521\n",
            "(80, 5386)\n",
            "Length of mel chunks: 4030\n",
            "  0% 0/32 [00:00<?, ?it/s]\n",
            "  0% 0/252 [00:00<?, ?it/s]\u001b[A\n",
            "  0% 1/252 [00:11<48:25, 11.58s/it]\u001b[A\n",
            "  1% 2/252 [00:12<21:52,  5.25s/it]\u001b[A\n",
            "  1% 3/252 [00:13<13:22,  3.22s/it]\u001b[A\n",
            "  2% 4/252 [00:13<09:21,  2.26s/it]\u001b[A\n",
            "  2% 5/252 [00:14<07:08,  1.73s/it]\u001b[A\n",
            "  2% 6/252 [00:15<05:48,  1.42s/it]\u001b[A\n",
            "  3% 7/252 [00:16<04:57,  1.21s/it]\u001b[A\n",
            "  3% 8/252 [00:17<04:23,  1.08s/it]\u001b[A\n",
            "  4% 9/252 [00:17<04:00,  1.01it/s]\u001b[A\n",
            "  4% 10/252 [00:18<03:45,  1.07it/s]\u001b[A\n",
            "  4% 11/252 [00:19<03:34,  1.12it/s]\u001b[A\n",
            "  5% 12/252 [00:20<03:29,  1.14it/s]\u001b[A\n",
            "  5% 13/252 [00:21<03:32,  1.13it/s]\u001b[A\n",
            "  6% 14/252 [00:22<03:36,  1.10it/s]\u001b[A\n",
            "  6% 15/252 [00:23<03:36,  1.09it/s]\u001b[A\n",
            "  6% 16/252 [00:24<03:32,  1.11it/s]\u001b[A\n",
            "  7% 17/252 [00:24<03:25,  1.14it/s]\u001b[A\n",
            "  7% 18/252 [00:25<03:20,  1.17it/s]\u001b[A\n",
            "  8% 19/252 [00:26<03:15,  1.19it/s]\u001b[A\n",
            "  8% 20/252 [00:27<03:09,  1.22it/s]\u001b[A\n",
            "  8% 21/252 [00:28<03:06,  1.24it/s]\u001b[A\n",
            "  9% 22/252 [00:28<03:03,  1.25it/s]\u001b[A\n",
            "  9% 23/252 [00:29<03:01,  1.26it/s]\u001b[A\n",
            " 10% 24/252 [00:30<03:01,  1.26it/s]\u001b[A\n",
            " 10% 25/252 [00:31<03:01,  1.25it/s]\u001b[A\n",
            " 10% 26/252 [00:32<03:02,  1.24it/s]\u001b[A\n",
            " 11% 27/252 [00:32<03:01,  1.24it/s]\u001b[A\n",
            " 11% 28/252 [00:33<03:04,  1.21it/s]\u001b[A\n",
            " 12% 29/252 [00:34<03:10,  1.17it/s]\u001b[A\n",
            " 12% 30/252 [00:35<03:14,  1.14it/s]\u001b[A\n",
            " 12% 31/252 [00:36<03:17,  1.12it/s]\u001b[A\n",
            " 13% 32/252 [00:37<03:16,  1.12it/s]\u001b[A\n",
            " 13% 33/252 [00:38<03:12,  1.14it/s]\u001b[A\n",
            " 13% 34/252 [00:39<03:07,  1.16it/s]\u001b[A\n",
            " 14% 35/252 [00:39<03:03,  1.18it/s]\u001b[A\n",
            " 14% 36/252 [00:40<03:02,  1.19it/s]\u001b[A\n",
            " 15% 37/252 [00:41<02:59,  1.20it/s]\u001b[A\n",
            " 15% 38/252 [00:42<02:57,  1.21it/s]\u001b[A\n",
            " 15% 39/252 [00:43<02:55,  1.21it/s]\u001b[A\n",
            " 16% 40/252 [00:43<02:53,  1.22it/s]\u001b[A\n",
            " 16% 41/252 [00:44<02:52,  1.22it/s]\u001b[A\n",
            " 17% 42/252 [00:45<02:51,  1.22it/s]\u001b[A\n",
            " 17% 43/252 [00:46<02:50,  1.23it/s]\u001b[A\n",
            " 17% 44/252 [00:47<02:49,  1.22it/s]\u001b[A\n",
            " 18% 45/252 [00:48<02:53,  1.19it/s]\u001b[A\n",
            " 18% 46/252 [00:49<03:00,  1.14it/s]\u001b[A\n",
            " 19% 47/252 [00:50<03:04,  1.11it/s]\u001b[A\n",
            " 19% 48/252 [00:51<03:06,  1.09it/s]\u001b[A\n",
            " 19% 49/252 [00:51<03:04,  1.10it/s]\u001b[A\n",
            " 20% 50/252 [00:52<02:57,  1.14it/s]\u001b[A\n",
            " 20% 51/252 [00:53<02:53,  1.16it/s]\u001b[A\n",
            " 21% 52/252 [00:54<02:50,  1.17it/s]\u001b[A\n",
            " 21% 53/252 [00:55<02:47,  1.19it/s]\u001b[A\n",
            " 21% 54/252 [00:56<02:46,  1.19it/s]\u001b[A\n",
            " 22% 55/252 [00:56<02:44,  1.20it/s]\u001b[A\n",
            " 22% 56/252 [00:57<02:42,  1.20it/s]\u001b[A\n",
            " 23% 57/252 [00:58<02:41,  1.20it/s]\u001b[A\n",
            " 23% 58/252 [00:59<02:40,  1.21it/s]\u001b[A\n",
            " 23% 59/252 [01:00<02:39,  1.21it/s]\u001b[A\n",
            " 24% 60/252 [01:00<02:37,  1.22it/s]\u001b[A\n",
            " 24% 61/252 [01:01<02:41,  1.18it/s]\u001b[A\n",
            " 25% 62/252 [01:02<02:48,  1.13it/s]\u001b[A\n",
            " 25% 63/252 [01:03<02:51,  1.10it/s]\u001b[A\n",
            " 25% 64/252 [01:04<02:53,  1.08it/s]\u001b[A\n",
            " 26% 65/252 [01:05<02:50,  1.10it/s]\u001b[A\n",
            " 26% 66/252 [01:06<02:44,  1.13it/s]\u001b[A\n",
            " 27% 67/252 [01:07<02:40,  1.15it/s]\u001b[A\n",
            " 27% 68/252 [01:08<02:37,  1.17it/s]\u001b[A\n",
            " 27% 69/252 [01:08<02:35,  1.18it/s]\u001b[A\n",
            " 28% 70/252 [01:09<02:33,  1.18it/s]\u001b[A\n",
            " 28% 71/252 [01:10<02:31,  1.20it/s]\u001b[A\n",
            " 29% 72/252 [01:11<02:30,  1.20it/s]\u001b[A\n",
            " 29% 73/252 [01:12<02:29,  1.20it/s]\u001b[A\n",
            " 29% 74/252 [01:13<02:29,  1.19it/s]\u001b[A\n",
            " 30% 75/252 [01:13<02:27,  1.20it/s]\u001b[A\n",
            " 30% 76/252 [01:14<02:26,  1.20it/s]\u001b[A\n",
            " 31% 77/252 [01:15<02:28,  1.18it/s]\u001b[A\n",
            " 31% 78/252 [01:16<02:34,  1.13it/s]\u001b[A\n",
            " 31% 79/252 [01:17<02:38,  1.09it/s]\u001b[A\n",
            " 32% 80/252 [01:18<02:41,  1.06it/s]\u001b[A\n",
            " 32% 81/252 [01:19<02:39,  1.07it/s]\u001b[A\n",
            " 33% 82/252 [01:20<02:34,  1.10it/s]\u001b[A\n",
            " 33% 83/252 [01:21<02:30,  1.12it/s]\u001b[A\n",
            " 33% 84/252 [01:22<02:27,  1.14it/s]\u001b[A\n",
            " 34% 85/252 [01:22<02:25,  1.15it/s]\u001b[A\n",
            " 34% 86/252 [01:23<02:24,  1.15it/s]\u001b[A\n",
            " 35% 87/252 [01:24<02:22,  1.16it/s]\u001b[A\n",
            " 35% 88/252 [01:25<02:20,  1.17it/s]\u001b[A\n",
            " 35% 89/252 [01:26<02:18,  1.17it/s]\u001b[A\n",
            " 36% 90/252 [01:27<02:17,  1.18it/s]\u001b[A\n",
            " 36% 91/252 [01:28<02:16,  1.18it/s]\u001b[A\n",
            " 37% 92/252 [01:28<02:17,  1.16it/s]\u001b[A\n",
            " 37% 93/252 [01:29<02:22,  1.12it/s]\u001b[A\n",
            " 37% 94/252 [01:30<02:26,  1.08it/s]\u001b[A\n",
            " 38% 95/252 [01:31<02:27,  1.07it/s]\u001b[A\n",
            " 38% 96/252 [01:32<02:26,  1.07it/s]\u001b[A\n",
            " 38% 97/252 [01:33<02:20,  1.10it/s]\u001b[A\n",
            " 39% 98/252 [01:34<02:17,  1.12it/s]\u001b[A\n",
            " 39% 99/252 [01:35<02:17,  1.11it/s]\u001b[A\n",
            " 40% 100/252 [01:36<02:20,  1.08it/s]\u001b[A\n",
            " 40% 101/252 [01:37<02:22,  1.06it/s]\u001b[A\n",
            " 40% 102/252 [01:38<02:24,  1.04it/s]\u001b[A\n",
            " 41% 103/252 [01:39<02:22,  1.04it/s]\u001b[A\n",
            " 41% 104/252 [01:40<02:17,  1.07it/s]\u001b[A\n",
            " 42% 105/252 [01:41<02:13,  1.10it/s]\u001b[A\n",
            " 42% 106/252 [01:41<02:09,  1.12it/s]\u001b[A\n",
            " 42% 107/252 [01:42<02:10,  1.11it/s]\u001b[A\n",
            " 43% 108/252 [01:43<02:12,  1.08it/s]\u001b[A\n",
            " 43% 109/252 [01:44<02:15,  1.06it/s]\u001b[A\n",
            " 44% 110/252 [01:45<02:15,  1.05it/s]\u001b[A\n",
            " 44% 111/252 [01:46<02:13,  1.06it/s]\u001b[A\n",
            " 44% 112/252 [01:47<02:08,  1.09it/s]\u001b[A\n",
            " 45% 113/252 [01:48<02:05,  1.11it/s]\u001b[A\n",
            " 45% 114/252 [01:49<02:03,  1.12it/s]\u001b[A\n",
            " 46% 115/252 [01:50<02:00,  1.14it/s]\u001b[A\n",
            " 46% 116/252 [01:50<01:58,  1.15it/s]\u001b[A\n",
            " 46% 117/252 [01:51<01:57,  1.15it/s]\u001b[A\n",
            " 47% 118/252 [01:52<01:55,  1.16it/s]\u001b[A\n",
            " 47% 119/252 [01:53<01:55,  1.15it/s]\u001b[A\n",
            " 48% 120/252 [01:54<01:54,  1.16it/s]\u001b[A\n",
            " 48% 121/252 [01:55<01:52,  1.16it/s]\u001b[A\n",
            " 48% 122/252 [01:56<01:50,  1.17it/s]\u001b[A\n",
            " 49% 123/252 [01:56<01:50,  1.17it/s]\u001b[A\n",
            " 49% 124/252 [01:57<01:54,  1.12it/s]\u001b[A\n",
            " 50% 125/252 [01:58<01:58,  1.07it/s]\u001b[A\n",
            " 50% 126/252 [01:59<02:00,  1.05it/s]\u001b[A\n",
            " 50% 127/252 [02:00<01:57,  1.06it/s]\u001b[A\n",
            " 51% 128/252 [02:01<01:52,  1.10it/s]\u001b[A\n",
            " 51% 129/252 [02:02<01:49,  1.12it/s]\u001b[A\n",
            " 52% 130/252 [02:03<01:46,  1.14it/s]\u001b[A\n",
            " 52% 131/252 [02:04<01:45,  1.15it/s]\u001b[A\n",
            " 52% 132/252 [02:05<01:43,  1.16it/s]\u001b[A\n",
            " 53% 133/252 [02:05<01:41,  1.17it/s]\u001b[A\n",
            " 53% 134/252 [02:06<01:40,  1.17it/s]\u001b[A\n",
            " 54% 135/252 [02:07<01:39,  1.18it/s]\u001b[A\n",
            " 54% 136/252 [02:08<01:38,  1.17it/s]\u001b[A\n",
            " 54% 137/252 [02:09<01:38,  1.17it/s]\u001b[A\n",
            " 55% 138/252 [02:10<01:36,  1.18it/s]\u001b[A\n",
            " 55% 139/252 [02:11<01:39,  1.14it/s]\u001b[A\n",
            " 56% 140/252 [02:12<01:42,  1.10it/s]\u001b[A\n",
            " 56% 141/252 [02:13<01:42,  1.08it/s]\u001b[A\n",
            " 56% 142/252 [02:14<01:43,  1.06it/s]\u001b[A\n",
            " 57% 143/252 [02:14<01:39,  1.09it/s]\u001b[A\n",
            " 57% 144/252 [02:15<01:37,  1.11it/s]\u001b[A\n",
            " 58% 145/252 [02:16<01:34,  1.13it/s]\u001b[A\n",
            " 58% 146/252 [02:17<01:32,  1.15it/s]\u001b[A\n",
            " 58% 147/252 [02:18<01:30,  1.16it/s]\u001b[A\n",
            " 59% 148/252 [02:19<01:28,  1.17it/s]\u001b[A\n",
            " 59% 149/252 [02:19<01:27,  1.18it/s]\u001b[A\n",
            " 60% 150/252 [02:20<01:26,  1.18it/s]\u001b[A\n",
            " 60% 151/252 [02:21<01:25,  1.19it/s]\u001b[A\n",
            " 60% 152/252 [02:22<01:24,  1.18it/s]\u001b[A\n",
            " 61% 153/252 [02:23<01:23,  1.18it/s]\u001b[A\n",
            " 61% 154/252 [02:24<01:25,  1.15it/s]\u001b[A\n",
            " 62% 155/252 [02:25<01:26,  1.12it/s]\u001b[A\n",
            " 62% 156/252 [02:26<01:27,  1.09it/s]\u001b[A\n",
            " 62% 157/252 [02:27<01:28,  1.08it/s]\u001b[A\n",
            " 63% 158/252 [02:28<01:26,  1.08it/s]\u001b[A\n",
            " 63% 159/252 [02:28<01:23,  1.11it/s]\u001b[A\n",
            " 63% 160/252 [02:29<01:21,  1.13it/s]\u001b[A\n",
            " 64% 161/252 [02:30<01:19,  1.15it/s]\u001b[A\n",
            " 64% 162/252 [02:31<01:18,  1.15it/s]\u001b[A\n",
            " 65% 163/252 [02:32<01:17,  1.15it/s]\u001b[A\n",
            " 65% 164/252 [02:33<01:15,  1.16it/s]\u001b[A\n",
            " 65% 165/252 [02:34<01:14,  1.16it/s]\u001b[A\n",
            " 66% 166/252 [02:34<01:14,  1.16it/s]\u001b[A\n",
            " 66% 167/252 [02:35<01:12,  1.17it/s]\u001b[A\n",
            " 67% 168/252 [02:36<01:11,  1.17it/s]\u001b[A\n",
            " 67% 169/252 [02:37<01:11,  1.17it/s]\u001b[A\n",
            " 67% 170/252 [02:38<01:11,  1.14it/s]\u001b[A\n",
            " 68% 171/252 [02:39<01:13,  1.11it/s]\u001b[A\n",
            " 68% 172/252 [02:40<01:13,  1.08it/s]\u001b[A\n",
            " 69% 173/252 [02:41<01:14,  1.06it/s]\u001b[A\n",
            " 69% 174/252 [02:42<01:13,  1.07it/s]\u001b[A\n",
            " 69% 175/252 [02:43<01:09,  1.10it/s]\u001b[A\n",
            " 70% 176/252 [02:43<01:07,  1.13it/s]\u001b[A\n",
            " 70% 177/252 [02:44<01:05,  1.15it/s]\u001b[A\n",
            " 71% 178/252 [02:45<01:04,  1.15it/s]\u001b[A\n",
            " 71% 179/252 [02:46<01:02,  1.16it/s]\u001b[A\n",
            " 71% 180/252 [02:47<01:01,  1.17it/s]\u001b[A\n",
            " 72% 181/252 [02:48<01:00,  1.17it/s]\u001b[A\n",
            " 72% 182/252 [02:48<00:59,  1.18it/s]\u001b[A\n",
            " 73% 183/252 [02:49<00:57,  1.19it/s]\u001b[A\n",
            " 73% 184/252 [02:50<00:56,  1.20it/s]\u001b[A\n",
            " 73% 185/252 [02:51<00:56,  1.19it/s]\u001b[A\n",
            " 74% 186/252 [02:52<00:56,  1.16it/s]\u001b[A\n",
            " 74% 187/252 [02:53<00:58,  1.12it/s]\u001b[A\n",
            " 75% 188/252 [02:54<00:58,  1.09it/s]\u001b[A\n",
            " 75% 189/252 [02:55<00:59,  1.05it/s]\u001b[A\n",
            " 75% 190/252 [02:56<00:57,  1.08it/s]\u001b[A\n",
            " 76% 191/252 [02:57<00:54,  1.11it/s]\u001b[A\n",
            " 76% 192/252 [02:57<00:53,  1.12it/s]\u001b[A\n",
            " 77% 193/252 [02:58<00:51,  1.14it/s]\u001b[A\n",
            " 77% 194/252 [02:59<00:50,  1.15it/s]\u001b[A\n",
            " 77% 195/252 [03:00<00:49,  1.16it/s]\u001b[A\n",
            " 78% 196/252 [03:01<00:47,  1.17it/s]\u001b[A\n",
            " 78% 197/252 [03:02<00:46,  1.17it/s]\u001b[A\n",
            " 79% 198/252 [03:03<00:46,  1.17it/s]\u001b[A\n",
            " 79% 199/252 [03:03<00:45,  1.17it/s]\u001b[A\n",
            " 79% 200/252 [03:04<00:44,  1.16it/s]\u001b[A\n",
            " 80% 201/252 [03:05<00:44,  1.14it/s]\u001b[A\n",
            " 80% 202/252 [03:06<00:45,  1.11it/s]\u001b[A\n",
            " 81% 203/252 [03:07<00:45,  1.09it/s]\u001b[A\n",
            " 81% 204/252 [03:08<00:44,  1.07it/s]\u001b[A\n",
            " 81% 205/252 [03:09<00:43,  1.08it/s]\u001b[A\n",
            " 82% 206/252 [03:10<00:41,  1.11it/s]\u001b[A\n",
            " 82% 207/252 [03:11<00:40,  1.12it/s]\u001b[A\n",
            " 83% 208/252 [03:12<00:38,  1.13it/s]\u001b[A\n",
            " 83% 209/252 [03:12<00:37,  1.15it/s]\u001b[A\n",
            " 83% 210/252 [03:13<00:36,  1.16it/s]\u001b[A\n",
            " 84% 211/252 [03:14<00:35,  1.17it/s]\u001b[A\n",
            " 84% 212/252 [03:15<00:34,  1.17it/s]\u001b[A\n",
            " 85% 213/252 [03:16<00:33,  1.17it/s]\u001b[A\n",
            " 85% 214/252 [03:17<00:32,  1.18it/s]\u001b[A\n",
            " 85% 215/252 [03:17<00:31,  1.19it/s]\u001b[A\n",
            " 86% 216/252 [03:18<00:30,  1.19it/s]\u001b[A\n",
            " 86% 217/252 [03:19<00:30,  1.15it/s]\u001b[A\n",
            " 87% 218/252 [03:20<00:30,  1.10it/s]\u001b[A\n",
            " 87% 219/252 [03:21<00:30,  1.09it/s]\u001b[A\n",
            " 87% 220/252 [03:22<00:30,  1.06it/s]\u001b[A\n",
            " 88% 221/252 [03:23<00:29,  1.07it/s]\u001b[A\n",
            " 88% 222/252 [03:24<00:27,  1.10it/s]\u001b[A\n",
            " 88% 223/252 [03:25<00:26,  1.11it/s]\u001b[A\n",
            " 89% 224/252 [03:26<00:24,  1.12it/s]\u001b[A\n",
            " 89% 225/252 [03:27<00:23,  1.14it/s]\u001b[A\n",
            " 90% 226/252 [03:27<00:22,  1.14it/s]\u001b[A\n",
            " 90% 227/252 [03:28<00:21,  1.15it/s]\u001b[A\n",
            " 90% 228/252 [03:29<00:20,  1.16it/s]\u001b[A\n",
            " 91% 229/252 [03:30<00:19,  1.16it/s]\u001b[A\n",
            " 91% 230/252 [03:31<00:18,  1.17it/s]\u001b[A\n",
            " 92% 231/252 [03:32<00:17,  1.17it/s]\u001b[A\n",
            " 92% 232/252 [03:32<00:16,  1.18it/s]\u001b[A\n",
            " 92% 233/252 [03:33<00:16,  1.15it/s]\u001b[A\n",
            " 93% 234/252 [03:34<00:16,  1.10it/s]\u001b[A\n",
            " 93% 235/252 [03:35<00:15,  1.08it/s]\u001b[A\n",
            " 94% 236/252 [03:36<00:15,  1.05it/s]\u001b[A\n",
            " 94% 237/252 [03:37<00:13,  1.08it/s]\u001b[A\n",
            " 94% 238/252 [03:38<00:12,  1.11it/s]\u001b[A\n",
            " 95% 239/252 [03:39<00:11,  1.13it/s]\u001b[A\n",
            " 95% 240/252 [03:40<00:10,  1.13it/s]\u001b[A\n",
            " 96% 241/252 [03:41<00:09,  1.15it/s]\u001b[A\n",
            " 96% 242/252 [03:42<00:08,  1.15it/s]\u001b[A\n",
            " 96% 243/252 [03:42<00:07,  1.16it/s]\u001b[A\n",
            " 97% 244/252 [03:43<00:06,  1.16it/s]\u001b[A\n",
            " 97% 245/252 [03:44<00:06,  1.16it/s]\u001b[A\n",
            " 98% 246/252 [03:45<00:05,  1.16it/s]\u001b[A\n",
            " 98% 247/252 [03:46<00:04,  1.17it/s]\u001b[A\n",
            " 98% 248/252 [03:47<00:03,  1.15it/s]\u001b[A\n",
            " 99% 249/252 [03:48<00:02,  1.12it/s]\u001b[A\n",
            " 99% 250/252 [03:49<00:01,  1.09it/s]\u001b[A\n",
            "100% 251/252 [03:50<00:00,  1.08it/s]\u001b[A\n",
            "100% 252/252 [04:00<00:00,  1.05it/s]\n",
            "Load checkpoint from: checkpoints/wav2lip_gan.pth\n",
            "Model loaded\n",
            "100% 32/32 [04:37<00:00,  8.66s/it]\n",
            "ffmpeg version 4.4.2-0ubuntu0.22.04.1 Copyright (c) 2000-2021 the FFmpeg developers\n",
            "  built with gcc 11 (Ubuntu 11.2.0-19ubuntu1)\n",
            "  configuration: --prefix=/usr --extra-version=0ubuntu0.22.04.1 --toolchain=hardened --libdir=/usr/lib/x86_64-linux-gnu --incdir=/usr/include/x86_64-linux-gnu --arch=amd64 --enable-gpl --disable-stripping --enable-gnutls --enable-ladspa --enable-libaom --enable-libass --enable-libbluray --enable-libbs2b --enable-libcaca --enable-libcdio --enable-libcodec2 --enable-libdav1d --enable-libflite --enable-libfontconfig --enable-libfreetype --enable-libfribidi --enable-libgme --enable-libgsm --enable-libjack --enable-libmp3lame --enable-libmysofa --enable-libopenjpeg --enable-libopenmpt --enable-libopus --enable-libpulse --enable-librabbitmq --enable-librubberband --enable-libshine --enable-libsnappy --enable-libsoxr --enable-libspeex --enable-libsrt --enable-libssh --enable-libtheora --enable-libtwolame --enable-libvidstab --enable-libvorbis --enable-libvpx --enable-libwebp --enable-libx265 --enable-libxml2 --enable-libxvid --enable-libzimg --enable-libzmq --enable-libzvbi --enable-lv2 --enable-omx --enable-openal --enable-opencl --enable-opengl --enable-sdl2 --enable-pocketsphinx --enable-librsvg --enable-libmfx --enable-libdc1394 --enable-libdrm --enable-libiec61883 --enable-chromaprint --enable-frei0r --enable-libx264 --enable-shared\n",
            "  libavutil      56. 70.100 / 56. 70.100\n",
            "  libavcodec     58.134.100 / 58.134.100\n",
            "  libavformat    58. 76.100 / 58. 76.100\n",
            "  libavdevice    58. 13.100 / 58. 13.100\n",
            "  libavfilter     7.110.100 /  7.110.100\n",
            "  libswscale      5.  9.100 /  5.  9.100\n",
            "  libswresample   3.  9.100 /  3.  9.100\n",
            "  libpostproc    55.  9.100 / 55.  9.100\n",
            "\u001b[0;35m[mp3 @ 0x58f4d185a240] \u001b[0m\u001b[0;33mEstimating duration from bitrate, this may be inaccurate\n",
            "\u001b[0mInput #0, mp3, from '../sample_data/audio.wav':\n",
            "  Duration: 00:01:07.32, start: 0.000000, bitrate: 96 kb/s\n",
            "  Stream #0:0: Audio: mp3, 44100 Hz, mono, fltp, 96 kb/s\n",
            "Input #1, avi, from 'temp/result.avi':\n",
            "  Metadata:\n",
            "    software        : Lavf59.27.100\n",
            "  Duration: 00:01:07.17, start: 0.000000, bitrate: 1614 kb/s\n",
            "  Stream #1:0: Video: mpeg4 (Simple Profile) (DIVX / 0x58564944), yuv420p, 720x360 [SAR 1:1 DAR 2:1], 1602 kb/s, 60 fps, 60 tbr, 60 tbn, 60 tbc\n",
            "Stream mapping:\n",
            "  Stream #1:0 -> #0:0 (mpeg4 (native) -> h264 (libx264))\n",
            "  Stream #0:0 -> #0:1 (mp3 (mp3float) -> aac (native))\n",
            "Press [q] to stop, [?] for help\n",
            "\u001b[1;36m[libx264 @ 0x58f4d18a8540] \u001b[0m\u001b[0;33m-qscale is ignored, -crf is recommended.\n",
            "\u001b[0m\u001b[1;36m[libx264 @ 0x58f4d18a8540] \u001b[0musing SAR=1/1\n",
            "\u001b[1;36m[libx264 @ 0x58f4d18a8540] \u001b[0musing cpu capabilities: MMX2 SSE2Fast SSSE3 SSE4.2 AVX FMA3 BMI2 AVX2 AVX512\n",
            "\u001b[1;36m[libx264 @ 0x58f4d18a8540] \u001b[0mprofile High, level 3.1, 4:2:0, 8-bit\n",
            "\u001b[1;36m[libx264 @ 0x58f4d18a8540] \u001b[0m264 - core 163 r3060 5db6aa6 - H.264/MPEG-4 AVC codec - Copyleft 2003-2021 - http://www.videolan.org/x264.html - options: cabac=1 ref=3 deblock=1:0:0 analyse=0x3:0x113 me=hex subme=7 psy=1 psy_rd=1.00:0.00 mixed_ref=1 me_range=16 chroma_me=1 trellis=1 8x8dct=1 cqm=0 deadzone=21,11 fast_pskip=1 chroma_qp_offset=-2 threads=3 lookahead_threads=1 sliced_threads=0 nr=0 decimate=1 interlaced=0 bluray_compat=0 constrained_intra=0 bframes=3 b_pyramid=2 b_adapt=1 b_bias=0 direct=1 weightb=1 open_gop=0 weightp=2 keyint=250 keyint_min=25 scenecut=40 intra_refresh=0 rc_lookahead=40 rc=crf mbtree=1 crf=23.0 qcomp=0.60 qpmin=0 qpmax=69 qpstep=4 ip_ratio=1.40 aq=1:1.00\n",
            "Output #0, mp4, to 'results/result_voice.mp4':\n",
            "  Metadata:\n",
            "    encoder         : Lavf58.76.100\n",
            "  Stream #0:0: Video: h264 (avc1 / 0x31637661), yuv420p(progressive), 720x360 [SAR 1:1 DAR 2:1], q=2-31, 60 fps, 15360 tbn\n",
            "    Metadata:\n",
            "      encoder         : Lavc58.134.100 libx264\n",
            "    Side data:\n",
            "      cpb: bitrate max/min/avg: 0/0/0 buffer size: 0 vbv_delay: N/A\n",
            "  Stream #0:1: Audio: aac (LC) (mp4a / 0x6134706D), 44100 Hz, mono, fltp, 69 kb/s\n",
            "    Metadata:\n",
            "      encoder         : Lavc58.134.100 aac\n",
            "frame= 4030 fps=103 q=-1.0 Lsize=    4598kB time=00:01:07.31 bitrate= 559.5kbits/s speed=1.73x    \n",
            "video:3922kB audio:571kB subtitle:0kB other streams:0kB global headers:0kB muxing overhead: 2.326215%\n",
            "\u001b[1;36m[libx264 @ 0x58f4d18a8540] \u001b[0mframe I:17    Avg QP:18.78  size: 10609\n",
            "\u001b[1;36m[libx264 @ 0x58f4d18a8540] \u001b[0mframe P:1912  Avg QP:23.75  size:  1711\n",
            "\u001b[1;36m[libx264 @ 0x58f4d18a8540] \u001b[0mframe B:2101  Avg QP:26.68  size:   268\n",
            "\u001b[1;36m[libx264 @ 0x58f4d18a8540] \u001b[0mconsecutive B-frames: 20.7% 24.9% 13.2% 41.2%\n",
            "\u001b[1;36m[libx264 @ 0x58f4d18a8540] \u001b[0mmb I  I16..4: 25.1% 65.4%  9.5%\n",
            "\u001b[1;36m[libx264 @ 0x58f4d18a8540] \u001b[0mmb P  I16..4:  1.0%  3.9%  0.2%  P16..4: 18.8%  6.0%  2.9%  0.0%  0.0%    skip:67.2%\n",
            "\u001b[1;36m[libx264 @ 0x58f4d18a8540] \u001b[0mmb B  I16..4:  0.2%  0.5%  0.0%  B16..8: 17.6%  0.5%  0.1%  direct: 0.1%  skip:81.0%  L0:49.0% L1:49.2% BI: 1.7%\n",
            "\u001b[1;36m[libx264 @ 0x58f4d18a8540] \u001b[0m8x8 transform intra:75.2% inter:72.7%\n",
            "\u001b[1;36m[libx264 @ 0x58f4d18a8540] \u001b[0mcoded y,uvDC,uvAC intra: 31.2% 29.2% 5.9% inter: 3.6% 2.5% 0.0%\n",
            "\u001b[1;36m[libx264 @ 0x58f4d18a8540] \u001b[0mi16 v,h,dc,p: 44% 19% 24% 13%\n",
            "\u001b[1;36m[libx264 @ 0x58f4d18a8540] \u001b[0mi8 v,h,dc,ddl,ddr,vr,hd,vl,hu: 28% 14% 48%  2%  2%  2%  2%  2%  2%\n",
            "\u001b[1;36m[libx264 @ 0x58f4d18a8540] \u001b[0mi4 v,h,dc,ddl,ddr,vr,hd,vl,hu: 33% 18% 15%  4%  7%  8%  7%  5%  4%\n",
            "\u001b[1;36m[libx264 @ 0x58f4d18a8540] \u001b[0mi8c dc,h,v,p: 61% 16% 21%  2%\n",
            "\u001b[1;36m[libx264 @ 0x58f4d18a8540] \u001b[0mWeighted P-Frames: Y:0.3% UV:0.0%\n",
            "\u001b[1;36m[libx264 @ 0x58f4d18a8540] \u001b[0mref P L0: 72.9% 12.5% 10.3%  4.3%  0.0%\n",
            "\u001b[1;36m[libx264 @ 0x58f4d18a8540] \u001b[0mref B L0: 83.6% 13.1%  3.3%\n",
            "\u001b[1;36m[libx264 @ 0x58f4d18a8540] \u001b[0mref B L1: 98.1%  1.9%\n",
            "\u001b[1;36m[libx264 @ 0x58f4d18a8540] \u001b[0mkb/s:478.31\n",
            "\u001b[1;36m[aac @ 0x58f4d18a9f80] \u001b[0mQavg: 158.533\n"
          ]
        }
      ]
    },
    {
      "cell_type": "markdown",
      "source": [
        "## **See Result in results folder in MyDrive/Wav2Lip**"
      ],
      "metadata": {
        "id": "LUx_v51zqv7w"
      }
    }
  ]
}